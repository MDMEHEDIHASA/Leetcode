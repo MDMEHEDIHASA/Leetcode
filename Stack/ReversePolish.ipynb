{
 "cells": [
  {
   "cell_type": "code",
   "execution_count": null,
   "metadata": {},
   "outputs": [],
   "source": [
    "class Solution:\n",
    "    def evalRPN(self, tokens: List[str]) -> int:\n",
    "        res = []\n",
    "        for item in tokens:\n",
    "            if item == '+':\n",
    "                secondLast,firstLast = res.pop(-2), res.pop(-1)\n",
    "                store = secondLast + firstLast\n",
    "                res.append(store)\n",
    "            elif item == '-':\n",
    "                secondLast,firstLast = res.pop(-2), res.pop(-1)\n",
    "                store = secondLast - firstLast\n",
    "                res.append(store)\n",
    "                    \n",
    "            elif item == '/':\n",
    "                secondLast,firstLast = res.pop(-2), res.pop(-1)\n",
    "                store = int(secondLast / firstLast)\n",
    "                res.append(store)\n",
    "            elif item == '*':\n",
    "                secondLast,firstLast = res.pop(-2), res.pop(-1)\n",
    "                store = secondLast * firstLast\n",
    "                res.append(store)\n",
    "            else:\n",
    "                res.append(int(item))\n",
    "        return res[0]"
   ]
  }
 ],
 "metadata": {
  "language_info": {
   "name": "python"
  }
 },
 "nbformat": 4,
 "nbformat_minor": 2
}
