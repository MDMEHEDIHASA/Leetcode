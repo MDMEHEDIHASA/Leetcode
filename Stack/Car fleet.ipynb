{
 "cells": [
  {
   "cell_type": "code",
   "execution_count": 1,
   "id": "76d5e5d2",
   "metadata": {},
   "outputs": [
    {
     "name": "stdout",
     "output_type": "stream",
     "text": [
      "10 2\n",
      "8 4\n",
      "0 1\n",
      "5 1\n",
      "3 3\n"
     ]
    }
   ],
   "source": [
    "position = [10,8,0,5,3]\n",
    "speed = [2,4,1,1,3]\n",
    "\n",
    "for p,s in zip(position,speed):\n",
    "    print(p,s)"
   ]
  },
  {
   "cell_type": "code",
   "execution_count": 3,
   "id": "6afaf9db",
   "metadata": {},
   "outputs": [
    {
     "name": "stdout",
     "output_type": "stream",
     "text": [
      "[[10, 2], [8, 4], [0, 1], [5, 1], [3, 3]]\n"
     ]
    }
   ],
   "source": [
    "pair = [[p,s]  for p,s in zip(position,speed)]\n",
    "print(pair)"
   ]
  },
  {
   "cell_type": "code",
   "execution_count": 6,
   "id": "d503ba00",
   "metadata": {},
   "outputs": [
    {
     "name": "stdout",
     "output_type": "stream",
     "text": [
      "10 2\n",
      "8 4\n",
      "5 1\n",
      "3 3\n",
      "0 1\n"
     ]
    }
   ],
   "source": [
    "for p,s in sorted(pair)[::-1]:\n",
    "    print(p,s)"
   ]
  },
  {
   "cell_type": "code",
   "execution_count": null,
   "id": "c6d5c30c",
   "metadata": {},
   "outputs": [],
   "source": [
    "class Solution:\n",
    "    def carFleet(self, target: int, position: List[int], speed: List[int]) -> int:\n",
    "        #https://www.youtube.com/watch?v=-KsJrT77MJk\n",
    "        stack = []\n",
    "        pairs = [[p,s] for p,s in zip(position,speed)]\n",
    "        for p,s in sorted(pairs)[::-1]:\n",
    "            stack.append((target-p)/s)\n",
    "            if(len(stack) >=2 and stack[-1] <= stack[-2]):\n",
    "                stack.pop()\n",
    "        return len(stack)"
   ]
  }
 ],
 "metadata": {
  "kernelspec": {
   "display_name": "Python 3",
   "language": "python",
   "name": "python3"
  },
  "language_info": {
   "codemirror_mode": {
    "name": "ipython",
    "version": 3
   },
   "file_extension": ".py",
   "mimetype": "text/x-python",
   "name": "python",
   "nbconvert_exporter": "python",
   "pygments_lexer": "ipython3",
   "version": "3.8.8"
  }
 },
 "nbformat": 4,
 "nbformat_minor": 5
}
