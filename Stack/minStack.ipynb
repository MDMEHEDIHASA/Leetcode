{
 "cells": [
  {
   "cell_type": "code",
   "execution_count": 1,
   "id": "91c6fce8",
   "metadata": {},
   "outputs": [],
   "source": [
    "class MinStack:\n",
    "    def __init__(self):\n",
    "        self.stack = []\n",
    "        self.minStack = []\n",
    "\n",
    "    def push(self, val: int) -> None:\n",
    "        self.stack.append(val)\n",
    "        val = min(val, self.minStack[-1] if self.minStack else val)\n",
    "        self.minStack.append(val)\n",
    "\n",
    "    def pop(self) -> None:\n",
    "        self.stack.pop()\n",
    "        self.minStack.pop()\n",
    "\n",
    "    def top(self) -> int:\n",
    "        return self.stack[-1]\n",
    "\n",
    "    def getMin(self) -> int:\n",
    "        return self.minStack[-1]\n"
   ]
  },
  {
   "cell_type": "code",
   "execution_count": null,
   "id": "577bbdd2",
   "metadata": {},
   "outputs": [],
   "source": []
  }
 ],
 "metadata": {
  "kernelspec": {
   "display_name": "Python 3",
   "language": "python",
   "name": "python3"
  },
  "language_info": {
   "codemirror_mode": {
    "name": "ipython",
    "version": 3
   },
   "file_extension": ".py",
   "mimetype": "text/x-python",
   "name": "python",
   "nbconvert_exporter": "python",
   "pygments_lexer": "ipython3",
   "version": "3.8.8"
  }
 },
 "nbformat": 4,
 "nbformat_minor": 5
}
